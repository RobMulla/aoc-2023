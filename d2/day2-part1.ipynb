{
 "cells": [
  {
   "cell_type": "markdown",
   "metadata": {},
   "source": [
    "# Day 2 - AOC 2023"
   ]
  },
  {
   "cell_type": "code",
   "execution_count": 73,
   "metadata": {},
   "outputs": [
    {
     "name": "stdout",
     "output_type": "stream",
     "text": [
      "2101\n"
     ]
    }
   ],
   "source": [
    "import pandas as pd\n",
    "import re\n",
    "\n",
    "file_path = 'd2-input.txt'\n",
    "\n",
    "data = pd.DataFrame()\n",
    "\n",
    "results_list = []\n",
    "with open(file_path, 'r') as file:\n",
    "    for line in file:\n",
    "        game, results = line.strip().split(':')\n",
    "        game_number = int(game.split(' ')[-1])\n",
    "        results = results.split(';')\n",
    "        for r in results:\n",
    "            green_match = re.search(r'(\\d+)\\s+green', r)\n",
    "            red_match = re.search(r'(\\d+)\\s+red', r)\n",
    "            blue_match = re.search(r'(\\d+)\\s+blue', r)\n",
    "            res = {'game_number': game_number, 'green': 0, 'red': 0, 'blue': 0}\n",
    "            if green_match:\n",
    "                res['green'] = int(green_match.group(1))\n",
    "            if red_match:\n",
    "                res['red'] = int(red_match.group(1))\n",
    "            if blue_match:\n",
    "                res['blue'] = int(blue_match.group(1))\n",
    "            \n",
    "            results_list.append(res)\n",
    "df = pd.DataFrame(results_list)\n",
    "# 12 red cubes, 13 green cubes, and 14 blue cubes\n",
    "df['passed_test'] = (df['red'] <= 12) & (df['green'] <= 13) & (df['blue'] <= 14)\n",
    "df_pct = df.groupby('game_number')['passed_test'].mean().reset_index()\n",
    "\n",
    "solution = df_pct.query('passed_test == 1')['game_number'].sum()\n",
    "print(solution)"
   ]
  },
  {
   "cell_type": "markdown",
   "metadata": {},
   "source": [
    "# Part 2\n",
    "- Find the minimum number for each cube."
   ]
  },
  {
   "cell_type": "code",
   "execution_count": 75,
   "metadata": {},
   "outputs": [
    {
     "name": "stdout",
     "output_type": "stream",
     "text": [
      "58269\n"
     ]
    }
   ],
   "source": [
    "df_max = df.groupby(['game_number'])[['red', 'green', 'blue']].max()\n",
    "df['power'] = df_max['red'] * df_max['green'] * df_max['blue']\n",
    "pt2_solution = int(df['power'].sum())\n",
    "print(pt2_solution)"
   ]
  }
 ],
 "metadata": {
  "kernelspec": {
   "display_name": "kaggle2023",
   "language": "python",
   "name": "kaggle2023"
  },
  "language_info": {
   "codemirror_mode": {
    "name": "ipython",
    "version": 3
   },
   "file_extension": ".py",
   "mimetype": "text/x-python",
   "name": "python",
   "nbconvert_exporter": "python",
   "pygments_lexer": "ipython3",
   "version": "3.11.0"
  }
 },
 "nbformat": 4,
 "nbformat_minor": 2
}
